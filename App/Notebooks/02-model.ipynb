{
 "cells": [
  {
   "cell_type": "code",
   "execution_count": 12,
   "metadata": {},
   "outputs": [],
   "source": [
    "import pandas as pd\n",
    "from langchain import PromptTemplate\n",
    "from dotenv import load_dotenv\n",
    "import os\n",
    "from langchain.chat_models import AzureChatOpenAI\n",
    "import warnings\n",
    "from langchain.chains import LLMChain\n",
    "warnings.filterwarnings(\"ignore\")"
   ]
  },
  {
   "cell_type": "code",
   "execution_count": 13,
   "metadata": {},
   "outputs": [
    {
     "name": "stdout",
     "output_type": "stream",
     "text": [
      "Cantidad de registros: 6985\n"
     ]
    },
    {
     "data": {
      "text/html": [
       "<div>\n",
       "<style scoped>\n",
       "    .dataframe tbody tr th:only-of-type {\n",
       "        vertical-align: middle;\n",
       "    }\n",
       "\n",
       "    .dataframe tbody tr th {\n",
       "        vertical-align: top;\n",
       "    }\n",
       "\n",
       "    .dataframe thead th {\n",
       "        text-align: right;\n",
       "    }\n",
       "</style>\n",
       "<table border=\"1\" class=\"dataframe\">\n",
       "  <thead>\n",
       "    <tr style=\"text-align: right;\">\n",
       "      <th></th>\n",
       "      <th>city</th>\n",
       "      <th>country</th>\n",
       "      <th>2017</th>\n",
       "      <th>2018</th>\n",
       "      <th>2019</th>\n",
       "      <th>2020</th>\n",
       "      <th>2021</th>\n",
       "      <th>2022</th>\n",
       "      <th>2023</th>\n",
       "    </tr>\n",
       "  </thead>\n",
       "  <tbody>\n",
       "    <tr>\n",
       "      <th>0</th>\n",
       "      <td>Kabul</td>\n",
       "      <td>Afghanistan</td>\n",
       "      <td>0</td>\n",
       "      <td>61.8</td>\n",
       "      <td>58.8</td>\n",
       "      <td>46.5</td>\n",
       "      <td>37.5</td>\n",
       "      <td>17.1</td>\n",
       "      <td>18.1</td>\n",
       "    </tr>\n",
       "    <tr>\n",
       "      <th>1</th>\n",
       "      <td>Tirana</td>\n",
       "      <td>Albania</td>\n",
       "      <td>0</td>\n",
       "      <td>0</td>\n",
       "      <td>0</td>\n",
       "      <td>16.0</td>\n",
       "      <td>12.5</td>\n",
       "      <td>14.5</td>\n",
       "      <td>14.4</td>\n",
       "    </tr>\n",
       "    <tr>\n",
       "      <th>2</th>\n",
       "      <td>Algiers</td>\n",
       "      <td>Algeria</td>\n",
       "      <td>0</td>\n",
       "      <td>0</td>\n",
       "      <td>21.2</td>\n",
       "      <td>20.2</td>\n",
       "      <td>20.0</td>\n",
       "      <td>17.8</td>\n",
       "      <td>17.4</td>\n",
       "    </tr>\n",
       "    <tr>\n",
       "      <th>3</th>\n",
       "      <td>Ordino</td>\n",
       "      <td>Andorra</td>\n",
       "      <td>0</td>\n",
       "      <td>0</td>\n",
       "      <td>0</td>\n",
       "      <td>7.4</td>\n",
       "      <td>7.3</td>\n",
       "      <td>5.4</td>\n",
       "      <td>5.3</td>\n",
       "    </tr>\n",
       "    <tr>\n",
       "      <th>4</th>\n",
       "      <td>Luanda</td>\n",
       "      <td>Angola</td>\n",
       "      <td>0</td>\n",
       "      <td>0</td>\n",
       "      <td>15.9</td>\n",
       "      <td>13.0</td>\n",
       "      <td>11.0</td>\n",
       "      <td>8.8</td>\n",
       "      <td>8.7</td>\n",
       "    </tr>\n",
       "  </tbody>\n",
       "</table>\n",
       "</div>"
      ],
      "text/plain": [
       "      city      country 2017  2018  2019  2020  2021  2022  2023\n",
       "0    Kabul  Afghanistan    0  61.8  58.8  46.5  37.5  17.1  18.1\n",
       "1   Tirana      Albania    0     0     0  16.0  12.5  14.5  14.4\n",
       "2  Algiers      Algeria    0     0  21.2  20.2  20.0  17.8  17.4\n",
       "3   Ordino      Andorra    0     0     0   7.4   7.3   5.4   5.3\n",
       "4   Luanda       Angola    0     0  15.9  13.0  11.0   8.8   8.7"
      ]
     },
     "execution_count": 13,
     "metadata": {},
     "output_type": "execute_result"
    }
   ],
   "source": [
    "data = pd.read_csv(\"../Resources/Raw/air_pollution.csv\")\n",
    "print(\"Cantidad de registros:\",str(data.shape[0]))\n",
    "data.head(5)\n"
   ]
  },
  {
   "cell_type": "code",
   "execution_count": 14,
   "metadata": {},
   "outputs": [],
   "source": [
    "load_dotenv()\n",
    "api_key = os.getenv('OPENAI_API_KEY')\n",
    "model = AzureChatOpenAI(temperature=0, deployment_name=\"chat\")"
   ]
  },
  {
   "cell_type": "code",
   "execution_count": 15,
   "metadata": {},
   "outputs": [
    {
     "data": {
      "text/plain": [
       "'El año con la mayor cantidad de población fue el año 2017, con una población de 61.8 millones.'"
      ]
     },
     "execution_count": 15,
     "metadata": {},
     "output_type": "execute_result"
    }
   ],
   "source": [
    "template = \"\"\"\n",
    "You have the following information {context} which contains information about the population in millions of each country and its corresponding city\n",
    "and you must answer the following question {question}\n",
    "Limit yourself to delivering the answer.\n",
    "Response in spanish\n",
    "\"\"\"\n",
    "\n",
    "prompt = PromptTemplate(\n",
    "    template = template,\n",
    "    input_variables = [\"context\",\"question\"]\n",
    ")\n",
    "\n",
    "llm = LLMChain(llm=model, prompt=prompt)\n",
    "\n",
    "llm.run(context = data,\n",
    "         question = \"Que año se tuvo mayor cantidad de población? y con cuanto fue?\")\n",
    "\n",
    "\n"
   ]
  },
  {
   "cell_type": "code",
   "execution_count": 16,
   "metadata": {},
   "outputs": [],
   "source": [
    "from langchain_community.document_loaders import PyPDFLoader\n",
    "\n",
    "loader = PyPDFLoader(\"../Resources/Pdf/JavaScript.pdf\")\n",
    "pages = loader.load_and_split()"
   ]
  },
  {
   "cell_type": "code",
   "execution_count": 17,
   "metadata": {},
   "outputs": [
    {
     "data": {
      "text/plain": [
       "[Document(page_content='EloquentJavaScript\\n3raedición\\nMarijn Haverbeke', metadata={'source': '../Resources/Pdf/JavaScript.pdf', 'page': 1}),\n",
       " Document(page_content='Copyright © 2018 por Marijn Haverbeke\\nEste libro está bajo la licencia Creative Commons Atribución-NoComercial\\n3.0 ( http://creativecommons.org/licenses/by-nc/3.0/ ). El código también\\npuede considerarse bajo una licencia MIT ( http://opensource.org/licenses/\\nMIT).\\nLas ilustraciones han sido contribuidas por varios artistas: Cover and chap-\\nter illustrations by Madalina Tantareanu. Pixel art in Chapters 7 and 16 by\\nAntonio Perdomo Pastor. Regular expression diagrams in Chapter 9 gener-\\nated with regexper.com by Jeff Avallone. Village photograph in Chapter 11 by\\nFabrice Creuzot. Game concept for Chapter 15 by Thomas Palef .\\nThe third edition of Eloquent JavaScript was made possible by 325 financial\\nbackers .\\nYou can buy a print version of this book, with an extra bonus chapter included,\\nprinted by No Starch Press at http://a-fwd.com/com=marijhaver-20&asin-\\ncom=1593279507 .\\ni', metadata={'source': '../Resources/Pdf/JavaScript.pdf', 'page': 2}),\n",
       " Document(page_content='Contents\\nIntroducción 1\\nAcerca de la programación . . . . . . . . . . . . . . . . . . . . . . . . . 2\\nPor qué el lenguaje importa . . . . . . . . . . . . . . . . . . . . . . . . 3\\n¿Qué es JavaScript? . . . . . . . . . . . . . . . . . . . . . . . . . . . . . 6\\nCódigo, y qué hacer con él . . . . . . . . . . . . . . . . . . . . . . . . . 8\\nDescripción general de este libro . . . . . . . . . . . . . . . . . . . . . . 9\\nConvenciones tipográficas . . . . . . . . . . . . . . . . . . . . . . . . . 9\\n1 V alores, Tipos, y Operadores 11\\nValores . . . . . . . . . . . . . . . . . . . . . . . . . . . . . . . . . . . . 11\\nNúmeros . . . . . . . . . . . . . . . . . . . . . . . . . . . . . . . . . . . 12\\nStrings . . . . . . . . . . . . . . . . . . . . . . . . . . . . . . . . . . . . 15\\nOperadores unarios . . . . . . . . . . . . . . . . . . . . . . . . . . . . . 17\\nValores Booleanos . . . . . . . . . . . . . . . . . . . . . . . . . . . . . . 17\\nValores vacíos . . . . . . . . . . . . . . . . . . . . . . . . . . . . . . . . 20\\nConversión de tipo automática . . . . . . . . . . . . . . . . . . . . . . 20\\nResumen . . . . . . . . . . . . . . . . . . . . . . . . . . . . . . . . . . . 22\\n2 Estructura de Programa 23\\nExpresiones y declaraciones . . . . . . . . . . . . . . . . . . . . . . . . 23\\nVinculaciones . . . . . . . . . . . . . . . . . . . . . . . . . . . . . . . . 24\\nNombres vinculantes . . . . . . . . . . . . . . . . . . . . . . . . . . . . 26\\nEl entorno . . . . . . . . . . . . . . . . . . . . . . . . . . . . . . . . . . 27\\nFunciones . . . . . . . . . . . . . . . . . . . . . . . . . . . . . . . . . . . 27\\nLa función console.log . . . . . . . . . . . . . . . . . . . . . . . . . . . . 28\\nValores de retorno . . . . . . . . . . . . . . . . . . . . . . . . . . . . . . 28\\nFlujo de control . . . . . . . . . . . . . . . . . . . . . . . . . . . . . . . 29\\nEjecución condicional . . . . . . . . . . . . . . . . . . . . . . . . . . . . 29\\nCiclos while y do . . . . . . . . . . . . . . . . . . . . . . . . . . . . . . 31\\nIndentando Código . . . . . . . . . . . . . . . . . . . . . . . . . . . . . 33\\nCiclos for . . . . . . . . . . . . . . . . . . . . . . . . . . . . . . . . . . . 34\\nRompiendo un ciclo . . . . . . . . . . . . . . . . . . . . . . . . . . . . . 35\\nii', metadata={'source': '../Resources/Pdf/JavaScript.pdf', 'page': 3}),\n",
       " Document(page_content='Actualizando vinculaciones de manera sucinta . . . . . . . . . . . . . . 35\\nDespachar en un valor con switch . . . . . . . . . . . . . . . . . . . . . 36\\nCapitalización . . . . . . . . . . . . . . . . . . . . . . . . . . . . . . . . 37\\nComentarios . . . . . . . . . . . . . . . . . . . . . . . . . . . . . . . . . 38\\nResumen . . . . . . . . . . . . . . . . . . . . . . . . . . . . . . . . . . . 38\\nEjercicios . . . . . . . . . . . . . . . . . . . . . . . . . . . . . . . . . . . 39\\n3 F unciones 41\\nDefiniendo una función . . . . . . . . . . . . . . . . . . . . . . . . . . . 41\\nVinculaciones y alcances . . . . . . . . . . . . . . . . . . . . . . . . . . 42\\nFunciones como valores . . . . . . . . . . . . . . . . . . . . . . . . . . . 45\\nNotación de declaración . . . . . . . . . . . . . . . . . . . . . . . . . . 45\\nFunciones de flecha . . . . . . . . . . . . . . . . . . . . . . . . . . . . . 46\\nLa pila de llamadas . . . . . . . . . . . . . . . . . . . . . . . . . . . . . 47\\nArgumentos Opcionales . . . . . . . . . . . . . . . . . . . . . . . . . . . 48\\nCierre . . . . . . . . . . . . . . . . . . . . . . . . . . . . . . . . . . . . . 50\\nRecursión . . . . . . . . . . . . . . . . . . . . . . . . . . . . . . . . . . . 51\\nFunciones crecientes . . . . . . . . . . . . . . . . . . . . . . . . . . . . . 54\\nFunciones y efectos secundarios . . . . . . . . . . . . . . . . . . . . . . 57\\nResumen . . . . . . . . . . . . . . . . . . . . . . . . . . . . . . . . . . . 58\\nEjercicios . . . . . . . . . . . . . . . . . . . . . . . . . . . . . . . . . . . 58\\n4 Estructuras de Datos: Objetos y Arrays 60\\nEl Hombre Ardilla . . . . . . . . . . . . . . . . . . . . . . . . . . . . . . 60\\nConjuntos de datos . . . . . . . . . . . . . . . . . . . . . . . . . . . . . 61\\nPropiedades . . . . . . . . . . . . . . . . . . . . . . . . . . . . . . . . . 62\\nMétodos . . . . . . . . . . . . . . . . . . . . . . . . . . . . . . . . . . . 63\\nObjetos . . . . . . . . . . . . . . . . . . . . . . . . . . . . . . . . . . . . 64\\nMutabilidad . . . . . . . . . . . . . . . . . . . . . . . . . . . . . . . . . 66\\nEl diario del licántropo . . . . . . . . . . . . . . . . . . . . . . . . . . . 68\\nCalculando correlación . . . . . . . . . . . . . . . . . . . . . . . . . . . 70\\nCiclos de array . . . . . . . . . . . . . . . . . . . . . . . . . . . . . . . . 71\\nEl análisis final . . . . . . . . . . . . . . . . . . . . . . . . . . . . . . . . 72\\nArrayología avanzada . . . . . . . . . . . . . . . . . . . . . . . . . . . . 74\\nStrings y sus propiedades . . . . . . . . . . . . . . . . . . . . . . . . . . 76\\nParámetros restantes . . . . . . . . . . . . . . . . . . . . . . . . . . . . 77\\nEl objeto Math . . . . . . . . . . . . . . . . . . . . . . . . . . . . . . . . 78\\nDesestructurar . . . . . . . . . . . . . . . . . . . . . . . . . . . . . . . . 80\\nJSON . . . . . . . . . . . . . . . . . . . . . . . . . . . . . . . . . . . . . 81\\nResumen . . . . . . . . . . . . . . . . . . . . . . . . . . . . . . . . . . . 82\\niii', metadata={'source': '../Resources/Pdf/JavaScript.pdf', 'page': 4}),\n",
       " Document(page_content='Ejercicios . . . . . . . . . . . . . . . . . . . . . . . . . . . . . . . . . . . 83\\n5 F unciones de Orden Superior 86\\nAbstracción . . . . . . . . . . . . . . . . . . . . . . . . . . . . . . . . . . 87\\nAbstrayendo la repetición . . . . . . . . . . . . . . . . . . . . . . . . . 88\\nFunciones de orden superior . . . . . . . . . . . . . . . . . . . . . . . . 89\\nConjunto de datos de códigos . . . . . . . . . . . . . . . . . . . . . . . 90\\nFiltrando arrays . . . . . . . . . . . . . . . . . . . . . . . . . . . . . . . 91\\nTransformando con map . . . . . . . . . . . . . . . . . . . . . . . . . . 92\\nResumiendo con reduce . . . . . . . . . . . . . . . . . . . . . . . . . . . 93\\nComposabilidad . . . . . . . . . . . . . . . . . . . . . . . . . . . . . . . 94\\nStrings y códigos de caracteres . . . . . . . . . . . . . . . . . . . . . . 96\\nReconociendo texto . . . . . . . . . . . . . . . . . . . . . . . . . . . . . 98\\nResumen . . . . . . . . . . . . . . . . . . . . . . . . . . . . . . . . . . . 99\\nEjercicios . . . . . . . . . . . . . . . . . . . . . . . . . . . . . . . . . . . 100\\n6 La Vida Secreta de los Objetos 101\\nEncapsulación . . . . . . . . . . . . . . . . . . . . . . . . . . . . . . . . 101\\nMétodos . . . . . . . . . . . . . . . . . . . . . . . . . . . . . . . . . . . 102\\nPrototipos . . . . . . . . . . . . . . . . . . . . . . . . . . . . . . . . . . 103\\nClases . . . . . . . . . . . . . . . . . . . . . . . . . . . . . . . . . . . . . 105\\nNotación de clase . . . . . . . . . . . . . . . . . . . . . . . . . . . . . . 106\\nSobreescribiendo propiedades derivadas . . . . . . . . . . . . . . . . . 107\\nMapas . . . . . . . . . . . . . . . . . . . . . . . . . . . . . . . . . . . . . 109\\nPolimorfismo . . . . . . . . . . . . . . . . . . . . . . . . . . . . . . . . . 111\\nSímbolos . . . . . . . . . . . . . . . . . . . . . . . . . . . . . . . . . . . 111\\nLa interfaz de iterador . . . . . . . . . . . . . . . . . . . . . . . . . . . 113\\nGetters, setters y estáticos . . . . . . . . . . . . . . . . . . . . . . . . . 115\\nHerencia . . . . . . . . . . . . . . . . . . . . . . . . . . . . . . . . . . . 117\\nEl operador instanceof . . . . . . . . . . . . . . . . . . . . . . . . . . . 118\\nResumen . . . . . . . . . . . . . . . . . . . . . . . . . . . . . . . . . . . 119\\nEjercicios . . . . . . . . . . . . . . . . . . . . . . . . . . . . . . . . . . . 120\\n7 Proyecto: Un Robot 122\\nVillaPradera . . . . . . . . . . . . . . . . . . . . . . . . . . . . . . . . . 122\\nLa tarea . . . . . . . . . . . . . . . . . . . . . . . . . . . . . . . . . . . . 124\\nDatos persistentes . . . . . . . . . . . . . . . . . . . . . . . . . . . . . . 126\\nSimulación . . . . . . . . . . . . . . . . . . . . . . . . . . . . . . . . . . 127\\nLa ruta del camión de correos . . . . . . . . . . . . . . . . . . . . . . . 129\\nBúsqueda de rutas . . . . . . . . . . . . . . . . . . . . . . . . . . . . . . 129\\niv', metadata={'source': '../Resources/Pdf/JavaScript.pdf', 'page': 5})]"
      ]
     },
     "execution_count": 17,
     "metadata": {},
     "output_type": "execute_result"
    }
   ],
   "source": [
    "pages[:5]"
   ]
  },
  {
   "cell_type": "code",
   "execution_count": 31,
   "metadata": {},
   "outputs": [],
   "source": [
    "template = \"\"\"\n",
    "You are only handling the following information {context} and you must answer the following question {question}.\n",
    "\"\"\"\n",
    "\n",
    "prompt = PromptTemplate(\n",
    "    template = template,\n",
    "    input_variables = [\"context\",\"question\"]\n",
    ")\n",
    "llm_js = LLMChain(llm=model, prompt=prompt)\n",
    "\n"
   ]
  },
  {
   "cell_type": "code",
   "execution_count": 30,
   "metadata": {},
   "outputs": [
    {
     "name": "stdout",
     "output_type": "stream",
     "text": [
      "\n",
      "\n",
      "\u001b[1m> Entering new LLMChain chain...\u001b[0m\n",
      "Prompt after formatting:\n",
      "\u001b[32;1m\u001b[1;3m\n",
      "You are only handling the following information [Document(page_content='EloquentJavaScript\\n3raedición\\nMarijn Haverbeke', metadata={'source': '../Resources/Pdf/JavaScript.pdf', 'page': 1}), Document(page_content='Copyright © 2018 por Marijn Haverbeke\\nEste libro está bajo la licencia Creative Commons Atribución-NoComercial\\n3.0 ( http://creativecommons.org/licenses/by-nc/3.0/ ). El código también\\npuede considerarse bajo una licencia MIT ( http://opensource.org/licenses/\\nMIT).\\nLas ilustraciones han sido contribuidas por varios artistas: Cover and chap-\\nter illustrations by Madalina Tantareanu. Pixel art in Chapters 7 and 16 by\\nAntonio Perdomo Pastor. Regular expression diagrams in Chapter 9 gener-\\nated with regexper.com by Jeff Avallone. Village photograph in Chapter 11 by\\nFabrice Creuzot. Game concept for Chapter 15 by Thomas Palef .\\nThe third edition of Eloquent JavaScript was made possible by 325 financial\\nbackers .\\nYou can buy a print version of this book, with an extra bonus chapter included,\\nprinted by No Starch Press at http://a-fwd.com/com=marijhaver-20&asin-\\ncom=1593279507 .\\ni', metadata={'source': '../Resources/Pdf/JavaScript.pdf', 'page': 2}), Document(page_content='Contents\\nIntroducción 1\\nAcerca de la programación . . . . . . . . . . . . . . . . . . . . . . . . . 2\\nPor qué el lenguaje importa . . . . . . . . . . . . . . . . . . . . . . . . 3\\n¿Qué es JavaScript? . . . . . . . . . . . . . . . . . . . . . . . . . . . . . 6\\nCódigo, y qué hacer con él . . . . . . . . . . . . . . . . . . . . . . . . . 8\\nDescripción general de este libro . . . . . . . . . . . . . . . . . . . . . . 9\\nConvenciones tipográficas . . . . . . . . . . . . . . . . . . . . . . . . . 9\\n1 V alores, Tipos, y Operadores 11\\nValores . . . . . . . . . . . . . . . . . . . . . . . . . . . . . . . . . . . . 11\\nNúmeros . . . . . . . . . . . . . . . . . . . . . . . . . . . . . . . . . . . 12\\nStrings . . . . . . . . . . . . . . . . . . . . . . . . . . . . . . . . . . . . 15\\nOperadores unarios . . . . . . . . . . . . . . . . . . . . . . . . . . . . . 17\\nValores Booleanos . . . . . . . . . . . . . . . . . . . . . . . . . . . . . . 17\\nValores vacíos . . . . . . . . . . . . . . . . . . . . . . . . . . . . . . . . 20\\nConversión de tipo automática . . . . . . . . . . . . . . . . . . . . . . 20\\nResumen . . . . . . . . . . . . . . . . . . . . . . . . . . . . . . . . . . . 22\\n2 Estructura de Programa 23\\nExpresiones y declaraciones . . . . . . . . . . . . . . . . . . . . . . . . 23\\nVinculaciones . . . . . . . . . . . . . . . . . . . . . . . . . . . . . . . . 24\\nNombres vinculantes . . . . . . . . . . . . . . . . . . . . . . . . . . . . 26\\nEl entorno . . . . . . . . . . . . . . . . . . . . . . . . . . . . . . . . . . 27\\nFunciones . . . . . . . . . . . . . . . . . . . . . . . . . . . . . . . . . . . 27\\nLa función console.log . . . . . . . . . . . . . . . . . . . . . . . . . . . . 28\\nValores de retorno . . . . . . . . . . . . . . . . . . . . . . . . . . . . . . 28\\nFlujo de control . . . . . . . . . . . . . . . . . . . . . . . . . . . . . . . 29\\nEjecución condicional . . . . . . . . . . . . . . . . . . . . . . . . . . . . 29\\nCiclos while y do . . . . . . . . . . . . . . . . . . . . . . . . . . . . . . 31\\nIndentando Código . . . . . . . . . . . . . . . . . . . . . . . . . . . . . 33\\nCiclos for . . . . . . . . . . . . . . . . . . . . . . . . . . . . . . . . . . . 34\\nRompiendo un ciclo . . . . . . . . . . . . . . . . . . . . . . . . . . . . . 35\\nii', metadata={'source': '../Resources/Pdf/JavaScript.pdf', 'page': 3}), Document(page_content='Actualizando vinculaciones de manera sucinta . . . . . . . . . . . . . . 35\\nDespachar en un valor con switch . . . . . . . . . . . . . . . . . . . . . 36\\nCapitalización . . . . . . . . . . . . . . . . . . . . . . . . . . . . . . . . 37\\nComentarios . . . . . . . . . . . . . . . . . . . . . . . . . . . . . . . . . 38\\nResumen . . . . . . . . . . . . . . . . . . . . . . . . . . . . . . . . . . . 38\\nEjercicios . . . . . . . . . . . . . . . . . . . . . . . . . . . . . . . . . . . 39\\n3 F unciones 41\\nDefiniendo una función . . . . . . . . . . . . . . . . . . . . . . . . . . . 41\\nVinculaciones y alcances . . . . . . . . . . . . . . . . . . . . . . . . . . 42\\nFunciones como valores . . . . . . . . . . . . . . . . . . . . . . . . . . . 45\\nNotación de declaración . . . . . . . . . . . . . . . . . . . . . . . . . . 45\\nFunciones de flecha . . . . . . . . . . . . . . . . . . . . . . . . . . . . . 46\\nLa pila de llamadas . . . . . . . . . . . . . . . . . . . . . . . . . . . . . 47\\nArgumentos Opcionales . . . . . . . . . . . . . . . . . . . . . . . . . . . 48\\nCierre . . . . . . . . . . . . . . . . . . . . . . . . . . . . . . . . . . . . . 50\\nRecursión . . . . . . . . . . . . . . . . . . . . . . . . . . . . . . . . . . . 51\\nFunciones crecientes . . . . . . . . . . . . . . . . . . . . . . . . . . . . . 54\\nFunciones y efectos secundarios . . . . . . . . . . . . . . . . . . . . . . 57\\nResumen . . . . . . . . . . . . . . . . . . . . . . . . . . . . . . . . . . . 58\\nEjercicios . . . . . . . . . . . . . . . . . . . . . . . . . . . . . . . . . . . 58\\n4 Estructuras de Datos: Objetos y Arrays 60\\nEl Hombre Ardilla . . . . . . . . . . . . . . . . . . . . . . . . . . . . . . 60\\nConjuntos de datos . . . . . . . . . . . . . . . . . . . . . . . . . . . . . 61\\nPropiedades . . . . . . . . . . . . . . . . . . . . . . . . . . . . . . . . . 62\\nMétodos . . . . . . . . . . . . . . . . . . . . . . . . . . . . . . . . . . . 63\\nObjetos . . . . . . . . . . . . . . . . . . . . . . . . . . . . . . . . . . . . 64\\nMutabilidad . . . . . . . . . . . . . . . . . . . . . . . . . . . . . . . . . 66\\nEl diario del licántropo . . . . . . . . . . . . . . . . . . . . . . . . . . . 68\\nCalculando correlación . . . . . . . . . . . . . . . . . . . . . . . . . . . 70\\nCiclos de array . . . . . . . . . . . . . . . . . . . . . . . . . . . . . . . . 71\\nEl análisis final . . . . . . . . . . . . . . . . . . . . . . . . . . . . . . . . 72\\nArrayología avanzada . . . . . . . . . . . . . . . . . . . . . . . . . . . . 74\\nStrings y sus propiedades . . . . . . . . . . . . . . . . . . . . . . . . . . 76\\nParámetros restantes . . . . . . . . . . . . . . . . . . . . . . . . . . . . 77\\nEl objeto Math . . . . . . . . . . . . . . . . . . . . . . . . . . . . . . . . 78\\nDesestructurar . . . . . . . . . . . . . . . . . . . . . . . . . . . . . . . . 80\\nJSON . . . . . . . . . . . . . . . . . . . . . . . . . . . . . . . . . . . . . 81\\nResumen . . . . . . . . . . . . . . . . . . . . . . . . . . . . . . . . . . . 82\\niii', metadata={'source': '../Resources/Pdf/JavaScript.pdf', 'page': 4}), Document(page_content='Ejercicios . . . . . . . . . . . . . . . . . . . . . . . . . . . . . . . . . . . 83\\n5 F unciones de Orden Superior 86\\nAbstracción . . . . . . . . . . . . . . . . . . . . . . . . . . . . . . . . . . 87\\nAbstrayendo la repetición . . . . . . . . . . . . . . . . . . . . . . . . . 88\\nFunciones de orden superior . . . . . . . . . . . . . . . . . . . . . . . . 89\\nConjunto de datos de códigos . . . . . . . . . . . . . . . . . . . . . . . 90\\nFiltrando arrays . . . . . . . . . . . . . . . . . . . . . . . . . . . . . . . 91\\nTransformando con map . . . . . . . . . . . . . . . . . . . . . . . . . . 92\\nResumiendo con reduce . . . . . . . . . . . . . . . . . . . . . . . . . . . 93\\nComposabilidad . . . . . . . . . . . . . . . . . . . . . . . . . . . . . . . 94\\nStrings y códigos de caracteres . . . . . . . . . . . . . . . . . . . . . . 96\\nReconociendo texto . . . . . . . . . . . . . . . . . . . . . . . . . . . . . 98\\nResumen . . . . . . . . . . . . . . . . . . . . . . . . . . . . . . . . . . . 99\\nEjercicios . . . . . . . . . . . . . . . . . . . . . . . . . . . . . . . . . . . 100\\n6 La Vida Secreta de los Objetos 101\\nEncapsulación . . . . . . . . . . . . . . . . . . . . . . . . . . . . . . . . 101\\nMétodos . . . . . . . . . . . . . . . . . . . . . . . . . . . . . . . . . . . 102\\nPrototipos . . . . . . . . . . . . . . . . . . . . . . . . . . . . . . . . . . 103\\nClases . . . . . . . . . . . . . . . . . . . . . . . . . . . . . . . . . . . . . 105\\nNotación de clase . . . . . . . . . . . . . . . . . . . . . . . . . . . . . . 106\\nSobreescribiendo propiedades derivadas . . . . . . . . . . . . . . . . . 107\\nMapas . . . . . . . . . . . . . . . . . . . . . . . . . . . . . . . . . . . . . 109\\nPolimorfismo . . . . . . . . . . . . . . . . . . . . . . . . . . . . . . . . . 111\\nSímbolos . . . . . . . . . . . . . . . . . . . . . . . . . . . . . . . . . . . 111\\nLa interfaz de iterador . . . . . . . . . . . . . . . . . . . . . . . . . . . 113\\nGetters, setters y estáticos . . . . . . . . . . . . . . . . . . . . . . . . . 115\\nHerencia . . . . . . . . . . . . . . . . . . . . . . . . . . . . . . . . . . . 117\\nEl operador instanceof . . . . . . . . . . . . . . . . . . . . . . . . . . . 118\\nResumen . . . . . . . . . . . . . . . . . . . . . . . . . . . . . . . . . . . 119\\nEjercicios . . . . . . . . . . . . . . . . . . . . . . . . . . . . . . . . . . . 120\\n7 Proyecto: Un Robot 122\\nVillaPradera . . . . . . . . . . . . . . . . . . . . . . . . . . . . . . . . . 122\\nLa tarea . . . . . . . . . . . . . . . . . . . . . . . . . . . . . . . . . . . . 124\\nDatos persistentes . . . . . . . . . . . . . . . . . . . . . . . . . . . . . . 126\\nSimulación . . . . . . . . . . . . . . . . . . . . . . . . . . . . . . . . . . 127\\nLa ruta del camión de correos . . . . . . . . . . . . . . . . . . . . . . . 129\\nBúsqueda de rutas . . . . . . . . . . . . . . . . . . . . . . . . . . . . . . 129\\niv', metadata={'source': '../Resources/Pdf/JavaScript.pdf', 'page': 5}), Document(page_content='Ejercicios . . . . . . . . . . . . . . . . . . . . . . . . . . . . . . . . . . . 132\\n8 Bugs y Errores 134\\nLenguaje . . . . . . . . . . . . . . . . . . . . . . . . . . . . . . . . . . . 134\\nModo estricto . . . . . . . . . . . . . . . . . . . . . . . . . . . . . . . . 135\\nTipos . . . . . . . . . . . . . . . . . . . . . . . . . . . . . . . . . . . . . 136\\nProbando . . . . . . . . . . . . . . . . . . . . . . . . . . . . . . . . . . . 137\\nDepuración . . . . . . . . . . . . . . . . . . . . . . . . . . . . . . . . . . 138\\nPropagación de errores . . . . . . . . . . . . . . . . . . . . . . . . . . . 140\\nExcepciones . . . . . . . . . . . . . . . . . . . . . . . . . . . . . . . . . 141\\nLimpiando después de excepciones . . . . . . . . . . . . . . . . . . . . 143\\nCaptura selectiva . . . . . . . . . . . . . . . . . . . . . . . . . . . . . . 145\\nAfirmaciones . . . . . . . . . . . . . . . . . . . . . . . . . . . . . . . . . 147\\nResumen . . . . . . . . . . . . . . . . . . . . . . . . . . . . . . . . . . . 148\\nEjercicios . . . . . . . . . . . . . . . . . . . . . . . . . . . . . . . . . . . 148\\n9 Expresiones Regulares 150\\nCreando una expresión regular . . . . . . . . . . . . . . . . . . . . . . . 150\\nProbando por coincidencias . . . . . . . . . . . . . . . . . . . . . . . . 151\\nConjuntos de caracteres . . . . . . . . . . . . . . . . . . . . . . . . . . 151\\nRepitiendo partes de un patrón . . . . . . . . . . . . . . . . . . . . . . 153\\nAgrupando subexpresiones . . . . . . . . . . . . . . . . . . . . . . . . . 154\\nCoincidencias y grupos . . . . . . . . . . . . . . . . . . . . . . . . . . . 154\\nLa clase Date (“Fecha”) . . . . . . . . . . . . . . . . . . . . . . . . . . 156\\nPalabra y límites de string . . . . . . . . . . . . . . . . . . . . . . . . . 157\\nPatrones de elección . . . . . . . . . . . . . . . . . . . . . . . . . . . . . 158\\nLas mecánicas del emparejamiento . . . . . . . . . . . . . . . . . . . . 158\\nRetrocediendo . . . . . . . . . . . . . . . . . . . . . . . . . . . . . . . . 159\\nEl método replace . . . . . . . . . . . . . . . . . . . . . . . . . . . . . . 161\\nCodicia . . . . . . . . . . . . . . . . . . . . . . . . . . . . . . . . . . . . 163\\nCreando objetos RegExp dinámicamente . . . . . . . . . . . . . . . . . 164\\nEl método search . . . . . . . . . . . . . . . . . . . . . . . . . . . . . . 165\\nLa propiedad lastIndex . . . . . . . . . . . . . . . . . . . . . . . . . . . 166\\nAnálisis de un archivo INI . . . . . . . . . . . . . . . . . . . . . . . . . 168\\nCaracteres internacionales . . . . . . . . . . . . . . . . . . . . . . . . . 170\\nResumen . . . . . . . . . . . . . . . . . . . . . . . . . . . . . . . . . . . 171\\nEjercicios . . . . . . . . . . . . . . . . . . . . . . . . . . . . . . . . . . . 173\\n10 Módulos 175\\nMódulos . . . . . . . . . . . . . . . . . . . . . . . . . . . . . . . . . . . 175\\nv', metadata={'source': '../Resources/Pdf/JavaScript.pdf', 'page': 6}), Document(page_content='Paquetes . . . . . . . . . . . . . . . . . . . . . . . . . . . . . . . . . . . 176\\nMódulos improvisados . . . . . . . . . . . . . . . . . . . . . . . . . . . 177\\nEvaluando datos como código . . . . . . . . . . . . . . . . . . . . . . . 178\\nCommonJS . . . . . . . . . . . . . . . . . . . . . . . . . . . . . . . . . . 179\\nMódulos ECMAScript . . . . . . . . . . . . . . . . . . . . . . . . . . . 182\\nConstruyendo y empaquetando . . . . . . . . . . . . . . . . . . . . . . 183\\nDiseño de módulos . . . . . . . . . . . . . . . . . . . . . . . . . . . . . 184\\nResumen . . . . . . . . . . . . . . . . . . . . . . . . . . . . . . . . . . . 186\\nEjercicios . . . . . . . . . . . . . . . . . . . . . . . . . . . . . . . . . . . 187\\n11 Programación Asincrónica 189\\nAsincronicidad . . . . . . . . . . . . . . . . . . . . . . . . . . . . . . . . 189\\nTecnología cuervo . . . . . . . . . . . . . . . . . . . . . . . . . . . . . . 191\\nDevolución de llamadas . . . . . . . . . . . . . . . . . . . . . . . . . . . 192\\nPromesas . . . . . . . . . . . . . . . . . . . . . . . . . . . . . . . . . . . 194\\nFracaso . . . . . . . . . . . . . . . . . . . . . . . . . . . . . . . . . . . . 196\\nLas redes son difíciles . . . . . . . . . . . . . . . . . . . . . . . . . . . . 197\\nColecciones de promesas . . . . . . . . . . . . . . . . . . . . . . . . . . 200\\nInundación de red . . . . . . . . . . . . . . . . . . . . . . . . . . . . . . 201\\nEnrutamiento de mensajes . . . . . . . . . . . . . . . . . . . . . . . . . 202\\nFunciones asíncronas . . . . . . . . . . . . . . . . . . . . . . . . . . . . 205\\nGeneradores . . . . . . . . . . . . . . . . . . . . . . . . . . . . . . . . . 207\\nEl ciclo de evento . . . . . . . . . . . . . . . . . . . . . . . . . . . . . . 208\\nErrores asincrónicos . . . . . . . . . . . . . . . . . . . . . . . . . . . . . 209\\nResumen . . . . . . . . . . . . . . . . . . . . . . . . . . . . . . . . . . . 211\\nEjercicios . . . . . . . . . . . . . . . . . . . . . . . . . . . . . . . . . . . 211\\n12 Proyecto: Un Lenguaje de Programación 213\\nAnálisis . . . . . . . . . . . . . . . . . . . . . . . . . . . . . . . . . . . . 213\\nThe evaluator . . . . . . . . . . . . . . . . . . . . . . . . . . . . . . . . 218\\nSpecial forms . . . . . . . . . . . . . . . . . . . . . . . . . . . . . . . . . 219\\nThe environment . . . . . . . . . . . . . . . . . . . . . . . . . . . . . . 221\\nFunctions . . . . . . . . . . . . . . . . . . . . . . . . . . . . . . . . . . . 222\\nCompilation . . . . . . . . . . . . . . . . . . . . . . . . . . . . . . . . . 223\\nCheating . . . . . . . . . . . . . . . . . . . . . . . . . . . . . . . . . . . 224\\nExercises . . . . . . . . . . . . . . . . . . . . . . . . . . . . . . . . . . . 225\\n13 El Modelo de Objeto del Documento 227\\nLa estructura del documento . . . . . . . . . . . . . . . . . . . . . . . . 227\\nÁrboles . . . . . . . . . . . . . . . . . . . . . . . . . . . . . . . . . . . . 228\\nvi', metadata={'source': '../Resources/Pdf/JavaScript.pdf', 'page': 7}), Document(page_content='El estándar . . . . . . . . . . . . . . . . . . . . . . . . . . . . . . . . . . 229\\nMoviéndose a través del árbol . . . . . . . . . . . . . . . . . . . . . . . 230\\nBuscar elementos . . . . . . . . . . . . . . . . . . . . . . . . . . . . . . 232\\nActualizar el documento . . . . . . . . . . . . . . . . . . . . . . . . . . 233\\nCrear nodos . . . . . . . . . . . . . . . . . . . . . . . . . . . . . . . . . 233\\nAtributos . . . . . . . . . . . . . . . . . . . . . . . . . . . . . . . . . . . 235\\nLayout . . . . . . . . . . . . . . . . . . . . . . . . . . . . . . . . . . . . 236\\nEstilización . . . . . . . . . . . . . . . . . . . . . . . . . . . . . . . . . . 238\\nEstilos en Cascada . . . . . . . . . . . . . . . . . . . . . . . . . . . . . . 240\\nSelectores de consulta . . . . . . . . . . . . . . . . . . . . . . . . . . . . 241\\nPosicionamiento y animaciones . . . . . . . . . . . . . . . . . . . . . . 242\\nResumen . . . . . . . . . . . . . . . . . . . . . . . . . . . . . . . . . . . 245\\nEjercicios . . . . . . . . . . . . . . . . . . . . . . . . . . . . . . . . . . . 245\\n14 Manejo de Eventos 248\\nManejador de eventos . . . . . . . . . . . . . . . . . . . . . . . . . . . . 248\\nEventos y nodos DOM . . . . . . . . . . . . . . . . . . . . . . . . . . . 249\\nObjetos de evento . . . . . . . . . . . . . . . . . . . . . . . . . . . . . . 250\\nPropagación . . . . . . . . . . . . . . . . . . . . . . . . . . . . . . . . . 251\\nAcciones por defecto . . . . . . . . . . . . . . . . . . . . . . . . . . . . 252\\nEventos de teclado . . . . . . . . . . . . . . . . . . . . . . . . . . . . . 253\\nEventos de puntero . . . . . . . . . . . . . . . . . . . . . . . . . . . . . 255\\nEventos de desplazamiento . . . . . . . . . . . . . . . . . . . . . . . . . 259\\nEventos de foco . . . . . . . . . . . . . . . . . . . . . . . . . . . . . . . 260\\nEvento de carga . . . . . . . . . . . . . . . . . . . . . . . . . . . . . . . 261\\nEventos y el ciclo de eventos . . . . . . . . . . . . . . . . . . . . . . . . 261\\nTemporizadores . . . . . . . . . . . . . . . . . . . . . . . . . . . . . . . 262\\nAntirrebote . . . . . . . . . . . . . . . . . . . . . . . . . . . . . . . . . . 263\\nResumen . . . . . . . . . . . . . . . . . . . . . . . . . . . . . . . . . . . 265\\nEjercicios . . . . . . . . . . . . . . . . . . . . . . . . . . . . . . . . . . . 265\\n15 Proyecto: Un Juego de Plataforma 267\\nEl juego . . . . . . . . . . . . . . . . . . . . . . . . . . . . . . . . . . . . 267\\nLa tecnología . . . . . . . . . . . . . . . . . . . . . . . . . . . . . . . . . 268\\nNiveles . . . . . . . . . . . . . . . . . . . . . . . . . . . . . . . . . . . . 268\\nLeyendo un nivel . . . . . . . . . . . . . . . . . . . . . . . . . . . . . . 269\\nActors . . . . . . . . . . . . . . . . . . . . . . . . . . . . . . . . . . . . . 271\\nEncapsulation as a burden . . . . . . . . . . . . . . . . . . . . . . . . . 275\\nDrawing . . . . . . . . . . . . . . . . . . . . . . . . . . . . . . . . . . . . 275\\nMotion and collision . . . . . . . . . . . . . . . . . . . . . . . . . . . . . 281\\nvii', metadata={'source': '../Resources/Pdf/JavaScript.pdf', 'page': 8}), Document(page_content='Actor updates . . . . . . . . . . . . . . . . . . . . . . . . . . . . . . . . 284\\nTracking keys . . . . . . . . . . . . . . . . . . . . . . . . . . . . . . . . 286\\nRunning the game . . . . . . . . . . . . . . . . . . . . . . . . . . . . . . 286\\nExercises . . . . . . . . . . . . . . . . . . . . . . . . . . . . . . . . . . . 289\\n16 Node.js 290\\nAntecedentes . . . . . . . . . . . . . . . . . . . . . . . . . . . . . . . . . 290\\nEl comando Node . . . . . . . . . . . . . . . . . . . . . . . . . . . . . . 291\\nMódulos . . . . . . . . . . . . . . . . . . . . . . . . . . . . . . . . . . . 292\\nInstalación con NPM . . . . . . . . . . . . . . . . . . . . . . . . . . . . 293\\nEl módulo del sistema de archivos . . . . . . . . . . . . . . . . . . . . . 296\\nThe HTTP module . . . . . . . . . . . . . . . . . . . . . . . . . . . . . 297\\nStreams . . . . . . . . . . . . . . . . . . . . . . . . . . . . . . . . . . . . 299\\nA file server . . . . . . . . . . . . . . . . . . . . . . . . . . . . . . . . . 301\\nSummary . . . . . . . . . . . . . . . . . . . . . . . . . . . . . . . . . . . 306\\nExercises . . . . . . . . . . . . . . . . . . . . . . . . . . . . . . . . . . . 307\\n17 Proyecto: Sitio web para compartir habilidades 309\\nDiseño . . . . . . . . . . . . . . . . . . . . . . . . . . . . . . . . . . . . . 309\\nLong Polling . . . . . . . . . . . . . . . . . . . . . . . . . . . . . . . . . 310\\nHTTP interface . . . . . . . . . . . . . . . . . . . . . . . . . . . . . . . 311\\nThe server . . . . . . . . . . . . . . . . . . . . . . . . . . . . . . . . . . 314\\nThe client . . . . . . . . . . . . . . . . . . . . . . . . . . . . . . . . . . . 321\\nExercises . . . . . . . . . . . . . . . . . . . . . . . . . . . . . . . . . . . 327\\nExercise Hints 329\\nEstructura de Programa . . . . . . . . . . . . . . . . . . . . . . . . . . 329\\nFunciones . . . . . . . . . . . . . . . . . . . . . . . . . . . . . . . . . . . 330\\nEstructuras de Datos: Objetos y Arrays . . . . . . . . . . . . . . . . . 331\\nFunciones de Orden Superior . . . . . . . . . . . . . . . . . . . . . . . 333\\nLa Vida Secreta de los Objetos . . . . . . . . . . . . . . . . . . . . . . 334\\nProyecto: Un Robot . . . . . . . . . . . . . . . . . . . . . . . . . . . . . 335\\nBugs y Errores . . . . . . . . . . . . . . . . . . . . . . . . . . . . . . . . 336\\nExpresiones Regulares . . . . . . . . . . . . . . . . . . . . . . . . . . . 336\\nMódulos . . . . . . . . . . . . . . . . . . . . . . . . . . . . . . . . . . . 337\\nProgramación Asincrónica . . . . . . . . . . . . . . . . . . . . . . . . . 339\\nProyecto: Un Lenguaje de Programación . . . . . . . . . . . . . . . . . 340\\nEl Modelo de Objeto del Documento . . . . . . . . . . . . . . . . . . . 341\\nManejo de Eventos . . . . . . . . . . . . . . . . . . . . . . . . . . . . . 342\\nProyecto: Un Juego de Plataforma . . . . . . . . . . . . . . . . . . . . 343\\nviii', metadata={'source': '../Resources/Pdf/JavaScript.pdf', 'page': 9}), Document(page_content='Node.js . . . . . . . . . . . . . . . . . . . . . . . . . . . . . . . . . . . . 344\\nProyecto: Sitio web para compartir habilidades . . . . . . . . . . . . . 345\\nix', metadata={'source': '../Resources/Pdf/JavaScript.pdf', 'page': 10})] and you must answer the following question Cómo puedo declarar una variable en javascript?.\n",
      "\u001b[0m\n",
      "\n",
      "\u001b[1m> Finished chain.\u001b[0m\n"
     ]
    },
    {
     "data": {
      "text/plain": [
       "'Para declarar una variable en JavaScript, se utiliza la palabra clave \"var\", seguida del nombre de la variable y opcionalmente se le puede asignar un valor. Por ejemplo:\\n\\nvar nombreVariable;\\nvar edad = 25;\\n\\nTambién se pueden declarar variables utilizando \"let\" y \"const\" en lugar de \"var\", dependiendo del alcance y la mutabilidad que se desee para la variable.'"
      ]
     },
     "execution_count": 30,
     "metadata": {},
     "output_type": "execute_result"
    }
   ],
   "source": [
    "llm_js.run(context = pages[:10],\n",
    "         question = \"Cómo puedo declarar una variable en javascript?\")"
   ]
  },
  {
   "cell_type": "code",
   "execution_count": 37,
   "metadata": {},
   "outputs": [
    {
     "data": {
      "text/plain": [
       "'En JavaScript, puedes declarar una variable utilizando la palabra clave \"var\", \"let\" o \"const\". Por ejemplo:\\n\\nvar nombre = \"Juan\";\\nlet edad = 25;\\nconst PI = 3.1416;\\n\\nLa palabra clave \"var\" se utiliza para declarar una variable con alcance de función o global. La palabra clave \"let\" se utiliza para declarar una variable con alcance de bloque. La palabra clave \"const\" se utiliza para declarar una constante, cuyo valor no puede ser modificado una vez asignado.\\n\\nEspero que esta información te sea útil.'"
      ]
     },
     "execution_count": 37,
     "metadata": {},
     "output_type": "execute_result"
    }
   ],
   "source": [
    "# Opción 2\n",
    "from langchain.chains.qa_with_sources.loading import load_qa_with_sources_chain\n",
    "from langchain.chains.question_answering import load_qa_chain\n",
    "llm_qa_documents = load_qa_chain(\n",
    "    model,\n",
    "    chain_type=\"stuff\",\n",
    "    prompt=prompt\n",
    ")\n",
    "\n",
    "llm_qa_documents.run(input_documents = pages[:10], question = \"Cómo puedo declarar una variable en javascript?\")"
   ]
  },
  {
   "cell_type": "code",
   "execution_count": 39,
   "metadata": {},
   "outputs": [],
   "source": [
    "import json\n",
    "datos_list = []\n",
    "with open('../Resources/Raw/netflix_titles.json', 'r') as archivo_json:\n",
    "    for linea in archivo_json:\n",
    "        datos = json.loads(linea)\n",
    "        datos_list.append(datos)"
   ]
  },
  {
   "cell_type": "code",
   "execution_count": 42,
   "metadata": {},
   "outputs": [
    {
     "data": {
      "text/plain": [
       "[{'show_id': 's1',\n",
       "  'type': 'Movie',\n",
       "  'title': 'Dick Johnson Is Dead',\n",
       "  'director': 'Kirsten Johnson',\n",
       "  'cast': None,\n",
       "  'country': 'United States',\n",
       "  'date_added': 'September 25, 2021',\n",
       "  'release_year': 2020,\n",
       "  'rating': 'PG-13',\n",
       "  'duration': '90 min',\n",
       "  'listed_in': 'Documentaries',\n",
       "  'description': 'As her father nears the end of his life, filmmaker Kirsten Johnson stages his death in inventive and comical ways to help them both face the inevitable.'}]"
      ]
     },
     "execution_count": 42,
     "metadata": {},
     "output_type": "execute_result"
    }
   ],
   "source": [
    "datos_list[:1]"
   ]
  },
  {
   "cell_type": "code",
   "execution_count": 43,
   "metadata": {},
   "outputs": [],
   "source": [
    "template = \"\"\"\n",
    "You are only handling the following information {context} and you must answer the following question {question}.\n",
    "\"\"\"\n",
    "\n",
    "prompt = PromptTemplate(\n",
    "    template = template,\n",
    "    input_variables = [\"context\",\"question\"]\n",
    ")\n",
    "llm_movies= LLMChain(llm=model, prompt=prompt)"
   ]
  },
  {
   "cell_type": "code",
   "execution_count": 48,
   "metadata": {},
   "outputs": [
    {
     "data": {
      "text/plain": [
       "'Te recomendaría la película \"Dick Johnson Is Dead\". Es un documental en el que la directora Kirsten Johnson protagoniza la historia junto a su padre, explorando temas como la vida, la muerte y el amor familiar.'"
      ]
     },
     "execution_count": 48,
     "metadata": {},
     "output_type": "execute_result"
    }
   ],
   "source": [
    "llm_movies.run(context = datos_list[:55],\n",
    "         question = \"Que película o telenovela me recomiendas donde la protagonista sea mujer\")"
   ]
  },
  {
   "cell_type": "code",
   "execution_count": null,
   "metadata": {},
   "outputs": [],
   "source": []
  }
 ],
 "metadata": {
  "kernelspec": {
   "display_name": "venv",
   "language": "python",
   "name": "python3"
  },
  "language_info": {
   "codemirror_mode": {
    "name": "ipython",
    "version": 3
   },
   "file_extension": ".py",
   "mimetype": "text/x-python",
   "name": "python",
   "nbconvert_exporter": "python",
   "pygments_lexer": "ipython3",
   "version": "3.10.4"
  }
 },
 "nbformat": 4,
 "nbformat_minor": 2
}
